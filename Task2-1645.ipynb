{
  "nbformat": 4,
  "nbformat_minor": 0,
  "metadata": {
    "colab": {
      "provenance": [],
      "authorship_tag": "ABX9TyMSoGIHSJRZ0k27W/aTQw0f",
      "include_colab_link": true
    },
    "kernelspec": {
      "name": "python3",
      "display_name": "Python 3"
    },
    "language_info": {
      "name": "python"
    }
  },
  "cells": [
    {
      "cell_type": "markdown",
      "metadata": {
        "id": "view-in-github",
        "colab_type": "text"
      },
      "source": [
        "<a href=\"https://colab.research.google.com/github/Sathwik1645/Sathwik1645-task2.1/blob/main/Task2-1645.ipynb\" target=\"_parent\"><img src=\"https://colab.research.google.com/assets/colab-badge.svg\" alt=\"Open In Colab\"/></a>"
      ]
    },
    {
      "cell_type": "code",
      "execution_count": null,
      "metadata": {
        "colab": {
          "base_uri": "https://localhost:8080/"
        },
        "id": "r9YXEhkuImKg",
        "outputId": "f4f312a5-8d8a-4193-f418-b68a7d3ea26b"
      },
      "outputs": [
        {
          "output_type": "stream",
          "name": "stdout",
          "text": [
            "Sum of 10 and 20 is 30 \n"
          ]
        }
      ],
      "source": [
        "num1 = 10\n",
        "num2 = 20\n",
        "result = num1 + num2\n",
        "print(f\"Sum of {num1} and {num2} is {result} \")"
      ]
    },
    {
      "cell_type": "code",
      "source": [
        "try:\n",
        "  num1 =  int(input(\"Enter the first number: \"))\n",
        "  num2 =  int(input(\"Enter the second number: \"))\n",
        "  result = num1 + num2\n",
        "  print(f\"Sum of {num1} and {num2} is {result} \")\n",
        "except ValueError:\n",
        "    print(\"Invalid input. Please enter a valid number.\")"
      ],
      "metadata": {
        "colab": {
          "base_uri": "https://localhost:8080/"
        },
        "id": "4lAw3UGNJdY5",
        "outputId": "b6ebe009-fc5f-4e69-8b94-e594019f62ff"
      },
      "execution_count": null,
      "outputs": [
        {
          "output_type": "stream",
          "name": "stdout",
          "text": [
            "Enter the first number: 16\n",
            "Enter the second number: 45\n",
            "Sum of 16 and 45 is 61 \n"
          ]
        }
      ]
    },
    {
      "cell_type": "code",
      "source": [
        "with open('single_input.txt', 'w') as file:\n",
        "  file.write(\"25\")\n",
        "  print(\"single_input.txt created!\")"
      ],
      "metadata": {
        "colab": {
          "base_uri": "https://localhost:8080/"
        },
        "id": "6JKMv12HKQjd",
        "outputId": "0d988cd1-708d-43ce-8577-19247c762197"
      },
      "execution_count": null,
      "outputs": [
        {
          "output_type": "stream",
          "name": "stdout",
          "text": [
            "single_input.txt created!\n"
          ]
        }
      ]
    },
    {
      "cell_type": "code",
      "source": [
        "try:\n",
        "  with open('single_input.txt', 'r') as file:\n",
        "    num = int(file.read().strip())\n",
        "    result = num + 10\n",
        "    print(f\"Number from file: {num}, After additon: {result}\")\n",
        "except FileNotFoundError:\n",
        "    print(\"File not found.Please create a file named 'single_input.text'.\")\n",
        "except ValueError:\n",
        "    print(\"File content must be a valid integer.\")"
      ],
      "metadata": {
        "colab": {
          "base_uri": "https://localhost:8080/"
        },
        "id": "_Rit3gSLLait",
        "outputId": "79b9ce7b-91f1-495d-851f-a5676643c990"
      },
      "execution_count": null,
      "outputs": [
        {
          "output_type": "stream",
          "name": "stdout",
          "text": [
            "Number from file: 25, After additon: 35\n"
          ]
        }
      ]
    },
    {
      "cell_type": "code",
      "source": [
        "with open('multiple_inputs.txt' , 'w') as file:\n",
        "  file.write(\"10\\n20\\n30\")\n",
        "  print(\"multiple_inputs.txt created!\")"
      ],
      "metadata": {
        "colab": {
          "base_uri": "https://localhost:8080/"
        },
        "id": "08bIW-1TMwKJ",
        "outputId": "f7bfc8f5-b818-4109-8b5f-2b1814ccbb95"
      },
      "execution_count": null,
      "outputs": [
        {
          "output_type": "stream",
          "name": "stdout",
          "text": [
            "multiple_inputs.txt created!\n"
          ]
        }
      ]
    },
    {
      "cell_type": "code",
      "source": [
        "try:\n",
        "    with open('multiple_inputs.txt', 'r') as file:\n",
        "        numbers = file.readlines()\n",
        "        numbers = [int(num.strip()) for num in numbers]\n",
        "        result = sum(numbers)\n",
        "        print(f\"Numbers from file: {numbers}, Sum: {result}\")\n",
        "except FileNotFoundError:\n",
        "    print(\"File not found. Please create a file named 'multiple_inputs.txt'.\")\n",
        "except ValueError:\n",
        "    print(\"Invalid input in the file. Please enter only numbers.\")"
      ],
      "metadata": {
        "colab": {
          "base_uri": "https://localhost:8080/"
        },
        "id": "LW3cMWvSNXqY",
        "outputId": "5007a19e-177c-439a-e619-5cdefda3d2e2"
      },
      "execution_count": null,
      "outputs": [
        {
          "output_type": "stream",
          "name": "stdout",
          "text": [
            "Numbers from file: [10, 20, 30], Sum: 60\n"
          ]
        }
      ]
    }
  ]
}